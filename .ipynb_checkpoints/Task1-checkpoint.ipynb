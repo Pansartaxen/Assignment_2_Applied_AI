{
 "cells": [
  {
   "cell_type": "code",
   "execution_count": 1,
   "metadata": {},
   "outputs": [],
   "source": [
    "# Imports \n",
    "import numpy as np\n",
    "import random\n",
    "from datetime import datetime"
   ]
  },
  {
   "cell_type": "code",
   "execution_count": 2,
   "metadata": {},
   "outputs": [],
   "source": [
    "# Parameters\n",
    "n_cities = 20\n",
    "\n",
    "n_population = 100\n",
    "\n",
    "mutation_rate = 0.3"
   ]
  },
  {
   "cell_type": "code",
   "execution_count": 3,
   "metadata": {},
   "outputs": [
    {
     "data": {
      "text/plain": [
       "{'Berlin': [19, 91],\n",
       " 'London': [42, 89],\n",
       " 'Moscow': [4, 82],\n",
       " 'Barcelona': [8, 88],\n",
       " 'Rome': [10, 15],\n",
       " 'Paris': [88, 80],\n",
       " 'Vienna': [59, 92],\n",
       " 'Munich': [42, 58],\n",
       " 'Istanbul': [54, 16],\n",
       " 'Kyiv': [3, 17],\n",
       " 'Bucharest': [16, 33],\n",
       " 'Minsk': [76, 97],\n",
       " 'Warsaw': [88, 6],\n",
       " 'Budapest': [78, 69],\n",
       " 'Milan': [10, 70],\n",
       " 'Prague': [83, 1],\n",
       " 'Sofia': [40, 24],\n",
       " 'Birmingham': [84, 20],\n",
       " 'Brussels': [86, 9],\n",
       " 'Amsterdam': [47, 83]}"
      ]
     },
     "execution_count": 3,
     "metadata": {},
     "output_type": "execute_result"
    }
   ],
   "source": [
    "# Generating a list of coordenades representing each city\n",
    "coordinates_list = [[x,y] for x,y in zip(np.random.randint(0,100,n_cities),np.random.randint(0,100,n_cities))]\n",
    "names_list = np.array(['Berlin', 'London', 'Moscow', 'Barcelona', 'Rome', 'Paris', 'Vienna', 'Munich', 'Istanbul', 'Kyiv', 'Bucharest', 'Minsk', 'Warsaw', 'Budapest', 'Milan', 'Prague', 'Sofia', 'Birmingham', 'Brussels', 'Amsterdam'])\n",
    "cities_dict = { x:y for x,y in zip(names_list,coordinates_list)}\n",
    "\n",
    "# Function to compute the distance between two points\n",
    "def compute_city_distance_coordinates(a,b):\n",
    "    return ((a[0]-b[0])**2+(a[1]-b[1])**2)**0.5\n",
    "\n",
    "def compute_city_distance_names(city_a, city_b, cities_dict):\n",
    "    return compute_city_distance_coordinates(cities_dict[city_a], cities_dict[city_b])\n",
    "\n",
    "cities_dict"
   ]
  },
  {
   "cell_type": "code",
   "execution_count": 4,
   "metadata": {},
   "outputs": [
    {
     "data": {
      "text/plain": [
       "array([['Berlin', 'Istanbul', 'Sofia', ..., 'Munich', 'Budapest', 'Rome'],\n",
       "       ['Munich', 'Birmingham', 'Sofia', ..., 'Moscow', 'Berlin',\n",
       "        'Barcelona'],\n",
       "       ['Amsterdam', 'Minsk', 'Milan', ..., 'Prague', 'Sofia', 'Kyiv'],\n",
       "       ...,\n",
       "       ['Sofia', 'Minsk', 'Prague', ..., 'Berlin', 'Birmingham', 'Paris'],\n",
       "       ['London', 'Bucharest', 'Brussels', ..., 'Rome', 'Paris',\n",
       "        'Berlin'],\n",
       "       ['Istanbul', 'Barcelona', 'Rome', ..., 'Paris', 'Prague',\n",
       "        'Budapest']], dtype='<U10')"
      ]
     },
     "execution_count": 4,
     "metadata": {},
     "output_type": "execute_result"
    }
   ],
   "source": [
    "# First step: Create the first population set\n",
    "def genesis(city_list, n_population):\n",
    "\n",
    "    population_set = []\n",
    "    for i in range(n_population):\n",
    "        #Randomly generating a new solution\n",
    "        sol_i = city_list[np.random.choice(list(range(n_cities)), n_cities, replace=False)]\n",
    "        population_set.append(sol_i)\n",
    "    return np.array(population_set)\n",
    "\n",
    "population_set = genesis(names_list, n_population)\n",
    "population_set"
   ]
  },
  {
   "cell_type": "code",
   "execution_count": 5,
   "metadata": {},
   "outputs": [],
   "source": [
    "def fitness_eval(city_list, cities_dict):\n",
    "    total = 0\n",
    "    for i in range(n_cities-1):\n",
    "        a = city_list[i]\n",
    "        b = city_list[i+1]\n",
    "        total += compute_city_distance_names(a,b, cities_dict)\n",
    "    return total"
   ]
  },
  {
   "cell_type": "code",
   "execution_count": 6,
   "metadata": {},
   "outputs": [
    {
     "data": {
      "text/plain": [
       "array([1220.7509951 , 1065.91933365, 1102.90036484, 1065.31952106,\n",
       "       1170.96151288, 1249.30699473, 1125.53797775, 1019.38668064,\n",
       "       1235.28146432,  991.88525726, 1355.60653417, 1177.14146232,\n",
       "        914.74306179, 1061.15471302, 1105.72621063, 1161.97892534,\n",
       "       1148.10457762, 1144.06766725, 1118.66239575, 1081.87063731,\n",
       "       1182.47164266, 1175.26231576, 1224.70169114,  863.95946946,\n",
       "       1106.91852638, 1093.27044009,  886.38656482, 1222.74756506,\n",
       "        963.69756506, 1303.16971244,  972.54096706, 1200.49017431,\n",
       "       1316.93545254, 1056.42016762, 1154.68266304, 1035.30966047,\n",
       "       1140.46324907, 1017.60032708,  850.67422154, 1048.87603771,\n",
       "       1019.97630683,  921.72566071, 1177.42992113, 1373.23408389,\n",
       "       1191.61116271, 1062.76109216, 1103.95583922, 1283.60334922,\n",
       "       1131.74803749,  885.23591653, 1284.03006341, 1349.66763479,\n",
       "       1265.05459274, 1339.13271078, 1047.7551898 , 1133.71074021,\n",
       "       1188.0192744 , 1297.9524151 , 1068.78781705, 1079.36459983,\n",
       "       1197.97884417, 1309.47753053, 1290.42596586, 1008.00228314,\n",
       "       1265.85825067,  985.02061183, 1238.4501823 , 1055.75418479,\n",
       "       1218.564526  , 1028.82673883, 1254.08647804,  923.68180187,\n",
       "       1319.37428694, 1229.29319246, 1228.11606928, 1061.74510421,\n",
       "        996.80699247, 1006.4196439 , 1126.77832218, 1243.63326694,\n",
       "       1214.53683169, 1306.47809941, 1212.52256061, 1200.08986256,\n",
       "       1257.89016264,  983.93724882, 1048.60161531, 1326.71146616,\n",
       "       1165.38450613, 1076.01343386, 1198.18683977, 1264.39603336,\n",
       "       1313.44909542, 1353.49989011, 1130.31850846, 1288.76945182,\n",
       "       1141.47186662, 1251.0679336 , 1264.4760578 , 1344.04974286])"
      ]
     },
     "execution_count": 6,
     "metadata": {},
     "output_type": "execute_result"
    }
   ],
   "source": [
    "def get_all_fitnes(population_set, cities_dict):\n",
    "    fitnes_list = np.zeros(n_population)\n",
    "\n",
    "    #Looping over all solutions computing the fitness for each solution\n",
    "    for i in  range(n_population):\n",
    "        fitnes_list[i] = fitness_eval(population_set[i], cities_dict)\n",
    "\n",
    "    return fitnes_list\n",
    "\n",
    "fitnes_list = get_all_fitnes(population_set,cities_dict)\n",
    "fitnes_list"
   ]
  },
  {
   "cell_type": "code",
   "execution_count": 7,
   "metadata": {},
   "outputs": [
    {
     "data": {
      "text/plain": [
       "array(['Budapest', 'Amsterdam', 'Milan', 'Barcelona', 'Paris', 'Vienna',\n",
       "       'Minsk', 'Istanbul', 'Berlin', 'Munich', 'Warsaw', 'Kyiv', 'Sofia',\n",
       "       'Birmingham', 'Bucharest', 'Moscow', 'Brussels', 'London', 'Rome',\n",
       "       'Prague'], dtype='<U10')"
      ]
     },
     "execution_count": 7,
     "metadata": {},
     "output_type": "execute_result"
    }
   ],
   "source": [
    "def progenitor_selection(population_set,fitnes_list):\n",
    "    total_fit = fitnes_list.sum()\n",
    "    prob_list = fitnes_list/total_fit\n",
    "    \n",
    "    #Notice there is the chance that a progenitor. mates with oneself\n",
    "    progenitor_list_a = np.random.choice(list(range(len(population_set))), len(population_set),p=prob_list, replace=True)\n",
    "    progenitor_list_b = np.random.choice(list(range(len(population_set))), len(population_set),p=prob_list, replace=True)\n",
    "    \n",
    "    progenitor_list_a = population_set[progenitor_list_a]\n",
    "    progenitor_list_b = population_set[progenitor_list_b]\n",
    "    \n",
    "    \n",
    "    return np.array([progenitor_list_a,progenitor_list_b])\n",
    "\n",
    "\n",
    "progenitor_list = progenitor_selection(population_set,fitnes_list)\n",
    "progenitor_list[0][2]"
   ]
  },
  {
   "cell_type": "code",
   "execution_count": 8,
   "metadata": {},
   "outputs": [
    {
     "data": {
      "text/plain": [
       "array(['Amsterdam', 'Kyiv', 'Vienna', 'Munich', 'Brussels', 'Minsk',\n",
       "       'London', 'Berlin', 'Birmingham', 'Milan', 'Prague', 'Budapest',\n",
       "       'Sofia', 'Moscow', 'Bucharest', 'Barcelona', 'Paris', 'Warsaw',\n",
       "       'Istanbul', 'Rome'], dtype='<U10')"
      ]
     },
     "execution_count": 8,
     "metadata": {},
     "output_type": "execute_result"
    }
   ],
   "source": [
    "def mate_progenitors(prog_a, prog_b):\n",
    "    offspring = prog_a[0:5]\n",
    "\n",
    "    for city in prog_b:\n",
    "\n",
    "        if not city in offspring:\n",
    "            offspring = np.concatenate((offspring,[city]))\n",
    "\n",
    "    return offspring\n",
    "            \n",
    "    \n",
    "    \n",
    "def mate_population(progenitor_list):\n",
    "    new_population_set = []\n",
    "    for i in range(progenitor_list.shape[1]):\n",
    "        prog_a, prog_b = progenitor_list[0][i], progenitor_list[1][i]\n",
    "        offspring = mate_progenitors(prog_a, prog_b)\n",
    "        new_population_set.append(offspring)\n",
    "        \n",
    "    return new_population_set\n",
    "\n",
    "new_population_set = mate_population(progenitor_list)\n",
    "new_population_set[0]"
   ]
  },
  {
   "cell_type": "code",
   "execution_count": 9,
   "metadata": {},
   "outputs": [
    {
     "data": {
      "text/plain": [
       "array(['Amsterdam', 'Kyiv', 'Barcelona', 'Munich', 'Moscow', 'Minsk',\n",
       "       'Vienna', 'Berlin', 'Birmingham', 'Milan', 'Rome', 'Budapest',\n",
       "       'Sofia', 'Prague', 'Brussels', 'London', 'Paris', 'Warsaw',\n",
       "       'Istanbul', 'Bucharest'], dtype='<U10')"
      ]
     },
     "execution_count": 9,
     "metadata": {},
     "output_type": "execute_result"
    }
   ],
   "source": [
    "def mutate_offspring(offspring):\n",
    "    for q in range(int(n_cities*mutation_rate)):\n",
    "        a = np.random.randint(0,n_cities)\n",
    "        b = np.random.randint(0,n_cities)\n",
    "\n",
    "        offspring[a], offspring[b] = offspring[b], offspring[a]\n",
    "\n",
    "    return offspring\n",
    "    \n",
    "    \n",
    "def mutate_population(new_population_set):\n",
    "    mutated_pop = []\n",
    "    for offspring in new_population_set:\n",
    "        mutated_pop.append(mutate_offspring(offspring))\n",
    "    return mutated_pop\n",
    "\n",
    "mutated_pop = mutate_population(new_population_set)\n",
    "mutated_pop[0]"
   ]
  },
  {
   "cell_type": "code",
   "execution_count": null,
   "metadata": {},
   "outputs": [
    {
     "name": "stdout",
     "output_type": "stream",
     "text": [
      "0 inf 1148.677865921024 20/09/22 09:54\n",
      "50 762.1751711180165 1170.343271868668 20/09/22 09:54\n",
      "100 751.542157702481 1177.0651098458777 20/09/22 09:54\n",
      "150 741.4902250159404 1180.6206161178748 20/09/22 09:54\n",
      "200 741.4902250159404 1171.7911464656643 20/09/22 09:54\n",
      "250 741.4902250159404 1161.6737295260982 20/09/22 09:54\n",
      "300 741.4902250159404 1154.5920132134875 20/09/22 09:54\n",
      "350 649.7752594757106 1136.8753081450564 20/09/22 09:54\n",
      "400 649.7752594757106 1167.2694949422828 20/09/22 09:54\n",
      "450 649.7752594757106 1172.2911782469432 20/09/22 09:54\n",
      "500 649.7752594757106 1170.8828890342938 20/09/22 09:54\n",
      "550 649.7752594757106 1164.4411804818155 20/09/22 09:54\n",
      "600 649.7752594757106 1176.1145356407158 20/09/22 09:54\n",
      "650 649.7752594757106 1157.9573832521928 20/09/22 09:54\n",
      "700 649.7752594757106 1171.4884777146256 20/09/22 09:54\n",
      "750 649.7752594757106 1171.1532961090297 20/09/22 09:54\n",
      "800 649.7752594757106 1139.7889229920368 20/09/22 09:54\n",
      "850 649.7752594757106 1167.7420575322865 20/09/22 09:54\n",
      "900 649.7752594757106 1161.6416915263135 20/09/22 09:54\n",
      "950 649.7752594757106 1174.185911010689 20/09/22 09:54\n",
      "1000 649.7752594757106 1183.6493654736469 20/09/22 09:54\n",
      "1050 649.7752594757106 1159.274317932123 20/09/22 09:54\n",
      "1100 649.7752594757106 1153.5331686106201 20/09/22 09:54\n",
      "1150 649.7752594757106 1161.7135208530701 20/09/22 09:54\n",
      "1200 649.7752594757106 1168.3016319236067 20/09/22 09:54\n",
      "1250 649.7752594757106 1166.4701771372029 20/09/22 09:54\n",
      "1300 649.7752594757106 1169.5373589801543 20/09/22 09:54\n",
      "1350 649.7752594757106 1181.4911409753915 20/09/22 09:54\n",
      "1400 649.7752594757106 1162.1244078194898 20/09/22 09:55\n",
      "1450 649.7752594757106 1162.0964265382809 20/09/22 09:55\n",
      "1500 649.7752594757106 1166.849273451294 20/09/22 09:55\n",
      "1550 649.7752594757106 1171.1115317125204 20/09/22 09:55\n",
      "1600 649.7752594757106 1174.7254669037418 20/09/22 09:55\n",
      "1650 649.7752594757106 1167.8294674720025 20/09/22 09:55\n",
      "1700 649.7752594757106 1168.5971963308548 20/09/22 09:55\n",
      "1750 649.7752594757106 1149.8910645893056 20/09/22 09:55\n",
      "1800 649.7752594757106 1152.1707171759745 20/09/22 09:55\n",
      "1850 649.7752594757106 1190.879031008537 20/09/22 09:55\n",
      "1900 649.7752594757106 1171.8685695297893 20/09/22 09:55\n",
      "1950 649.7752594757106 1168.4305603780251 20/09/22 09:55\n",
      "2000 649.7752594757106 1166.6904379120415 20/09/22 09:55\n",
      "2050 649.7752594757106 1170.494741421254 20/09/22 09:55\n",
      "2100 649.7752594757106 1154.7076006113737 20/09/22 09:55\n"
     ]
    }
   ],
   "source": [
    "best_solution = [-1,np.inf,np.array([])]\n",
    "for i in range(10000):\n",
    "    if i%50==0: print(i, best_solution[1], fitnes_list.mean(), datetime.now().strftime(\"%d/%m/%y %H:%M\"))\n",
    "    fitnes_list = get_all_fitnes(mutated_pop,cities_dict)\n",
    "    \n",
    "    #Saving the best solution\n",
    "    if fitnes_list.min() < best_solution[1]:\n",
    "        best_solution[0] = i\n",
    "        best_solution[1] = fitnes_list.min()\n",
    "        best_solution[2] = np.array(mutated_pop)[fitnes_list.min() == fitnes_list]\n",
    "    \n",
    "    progenitor_list = progenitor_selection(population_set,fitnes_list)\n",
    "    new_population_set = mate_population(progenitor_list)\n",
    "    \n",
    "    mutated_pop = mutate_population(new_population_set)"
   ]
  },
  {
   "cell_type": "code",
   "execution_count": null,
   "metadata": {},
   "outputs": [],
   "source": [
    "best_solution"
   ]
  },
  {
   "cell_type": "code",
   "execution_count": null,
   "metadata": {},
   "outputs": [],
   "source": []
  }
 ],
 "metadata": {
  "kernelspec": {
   "display_name": "Python 3 (ipykernel)",
   "language": "python",
   "name": "python3"
  },
  "language_info": {
   "codemirror_mode": {
    "name": "ipython",
    "version": 3
   },
   "file_extension": ".py",
   "mimetype": "text/x-python",
   "name": "python",
   "nbconvert_exporter": "python",
   "pygments_lexer": "ipython3",
   "version": "3.9.7"
  }
 },
 "nbformat": 4,
 "nbformat_minor": 2
}
